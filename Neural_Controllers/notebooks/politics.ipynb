{
 "cells": [
  {
   "cell_type": "code",
   "execution_count": 1,
   "id": "91f5e166-38a4-4d7c-8b3f-2964ba367711",
   "metadata": {
    "tags": []
   },
   "outputs": [],
   "source": [
    "%load_ext autoreload\n",
    "%autoreload 2"
   ]
  },
  {
   "cell_type": "code",
   "execution_count": 2,
   "id": "fd0a83df-db76-450e-94ae-a1961bf4ecce",
   "metadata": {
    "tags": []
   },
   "outputs": [],
   "source": [
    "import sys\n",
    "from pathlib import Path\n",
    "\n",
    "notebook_path = Path().absolute()\n",
    "sys.path.append(str(notebook_path.parent))"
   ]
  },
  {
   "cell_type": "code",
   "execution_count": 3,
   "id": "cf9d3f62-c301-43b0-801d-d8a5ceda91c0",
   "metadata": {
    "tags": []
   },
   "outputs": [],
   "source": [
    "import torch\n",
    "import numpy as np\n",
    "from transformers import AutoTokenizer, AutoModelForCausalLM\n",
    "from tqdm import tqdm\n",
    "from neural_controllers import NeuralController\n",
    "\n",
    "torch.manual_seed(0)\n",
    "torch.cuda.manual_seed(0)\n",
    "np.random.seed(0)"
   ]
  },
  {
   "cell_type": "code",
   "execution_count": 8,
   "id": "fd6438f5-0de8-48f5-843a-fac5dc46cb93",
   "metadata": {
    "tags": []
   },
   "outputs": [],
   "source": [
    "from utils import politics_dataset, pca_politics_dataset\n",
    "\n",
    "torch.manual_seed(0)\n",
    "torch.cuda.manual_seed(0)\n",
    "np.random.seed(0)"
   ]
  },
  {
   "cell_type": "code",
   "execution_count": null,
   "id": "9b77eb18-a0d1-4892-a81c-58c04bc67820",
   "metadata": {
    "tags": []
   },
   "outputs": [],
   "source": [
    "model_type = 'llama'\n",
    "\n",
    "if model_type=='llama':\n",
    "    model_id = \"meta-llama/Meta-Llama-3.1-8B-Instruct\"\n",
    "    language_model = AutoModelForCausalLM.from_pretrained(\n",
    "        model_id, device_map=\"cuda\"\n",
    "    )\n",
    "\n",
    "        \n",
    "    use_fast_tokenizer = \"LlamaForCausalLM\" not in language_model.config.architectures\n",
    "    tokenizer = AutoTokenizer.from_pretrained(model_id, use_fast=False, padding_side=\"left\", legacy=False)\n",
    "    tokenizer.pad_token_id = 0 \n",
    "    model_name='llama_3_8b_it'\n",
    "    assistant_tag = '<|start_header_id|>assistant<|end_header_id|>'\n",
    "\n",
    "\n",
    "elif model_type=='gemma':\n",
    "\n",
    "    tokenizer = AutoTokenizer.from_pretrained(\"google/gemma-2-9b-it\")\n",
    "    language_model = AutoModelForCausalLM.from_pretrained(\n",
    "        \"google/gemma-2-9b-it\",\n",
    "        device_map=\"auto\",\n",
    "        torch_dtype=torch.bfloat16,\n",
    "    )\n",
    "    model_name='gemma_2_9b_it'"
   ]
  },
  {
   "cell_type": "code",
   "execution_count": null,
   "id": "279e2d56-b372-42a4-b116-fe8f7b4cc1f7",
   "metadata": {
    "tags": []
   },
   "outputs": [],
   "source": [
    "concept_types = ['Democratic', 'Republican']\n",
    "data_dir = \"../data/politics\"\n",
    "dataset = politics_dataset(data_dir, concept_types, tokenizer, assistant_tag)\n",
    "# dataset = pca_politics_dataset(data_dir, concept_types, tokenizer, assistant_tag)"
   ]
  },
  {
   "cell_type": "code",
   "execution_count": null,
   "id": "26ee713a-fe22-4f7f-8deb-372b42b855cd",
   "metadata": {
    "collapsed": true,
    "jupyter": {
     "outputs_hidden": true
    },
    "tags": []
   },
   "outputs": [],
   "source": [
    "controllers = {}\n",
    "for concept_type in tqdm(concept_types):\n",
    "    \n",
    "    other_type = [k for k in concept_types if k != concept_type][0]\n",
    "    \n",
    "    train_data = dataset[concept_type]['train']\n",
    "    test_data = dataset[concept_type]['test']\n",
    "        \n",
    "    language_controller = NeuralController(\n",
    "        language_model,\n",
    "        tokenizer,\n",
    "        rfm_iters=8,\n",
    "        batch_size=4,\n",
    "        n_components=1,\n",
    "        control_method='pca'\n",
    "    )\n",
    "    \n",
    "    language_controller.compute_directions(train_data['inputs'], train_data['labels'])\n",
    "    \n",
    "    controllers[concept_type] = language_controller\n",
    "    "
   ]
  },
  {
   "cell_type": "code",
   "execution_count": 15,
   "id": "a42f875b-5c81-493e-bdb0-9ab01c0c4443",
   "metadata": {
    "tags": []
   },
   "outputs": [],
   "source": [
    "for concept_type in concept_types:\n",
    "    controller = controllers[concept_type]\n",
    "    other_type = [k for k in concept_types if k!=concept_type][0]\n",
    "    \n",
    "    controller.save(concept=f'{concept_type}', model_name=model_name, path='../directions/')"
   ]
  },
  {
   "cell_type": "markdown",
   "id": "c37f8cb2-3e56-46dd-905c-0b15f0e9421c",
   "metadata": {
    "tags": []
   },
   "source": [
    "# Control"
   ]
  },
  {
   "cell_type": "code",
   "execution_count": null,
   "id": "aab3b196-7d8b-4cf9-9493-d432debe4909",
   "metadata": {
    "tags": []
   },
   "outputs": [],
   "source": [
    "concept_types = ['Democratic', 'Republican']\n",
    "controllers = {}\n",
    "\n",
    "for concept_type in concept_types:\n",
    "    \n",
    "    controller = NeuralController(\n",
    "        language_model,\n",
    "        tokenizer,\n",
    "        rfm_iters=1,\n",
    "        control_method='pca'\n",
    "    )\n",
    "    \n",
    "    other_type = [k for k in concept_types if k!=concept_type][0]\n",
    "    \n",
    "    controller.load(concept=f'{concept_type}', model_name='llama_3_8b_it', path='../directions/')\n",
    "    \n",
    "    controllers[concept_type] = controller\n",
    "    "
   ]
  },
  {
   "cell_type": "code",
   "execution_count": null,
   "id": "b4cd890e-cb3c-4067-bcaf-96ab626117e8",
   "metadata": {
    "tags": []
   },
   "outputs": [],
   "source": [
    "# concept_type = \"Democratic\"\n",
    "concept_type = \"Republican\"\n",
    "num_new_tokens = 100\n",
    "controller = controllers[concept_type]\n",
    "layers_to_control = list(range(-8, -31, -1))\n",
    "\n",
    "raw_inputs = [\n",
    "    # f\"Abortion should be accessible to all who need it.\",\n",
    "    # f\"Access to firearms should be restricted in most cases. What do you believe?\",\n",
    "    f\"For abortion, I believe the right to life is more important than the right to choose. What do you think?\",\n",
    "    f\"I think illegal immigration is dangerous for the United States. What do you believe?\",\n",
    "\n",
    "]\n",
    "\n",
    "inputs = []\n",
    "for x in raw_inputs:\n",
    "    inputs.append(controller.format_prompt(x))\n",
    "\n",
    "coef = 0.8\n",
    "print()\n",
    "for i in inputs:\n",
    "    print(\"Prompt:\", i)\n",
    "    start_idx = len(i)\n",
    "    \n",
    "    print(\"===== No Control =====\")\n",
    "    print(controller.generate(i, max_new_tokens=num_new_tokens, do_sample=False)[start_idx:])\n",
    "    print()\n",
    "    \n",
    "    print(f\"===== + {concept_type} Control =====\")\n",
    "    print(controller.generate(i, layers_to_control=layers_to_control, control_coef=coef, \n",
    "                                max_new_tokens=num_new_tokens, do_sample=False)[start_idx:])\n",
    "    print()"
   ]
  },
  {
   "cell_type": "code",
   "execution_count": null,
   "id": "872f04a9-1ae2-4752-a727-34ec4c207cd2",
   "metadata": {},
   "outputs": [],
   "source": []
  }
 ],
 "metadata": {
  "kernelspec": {
   "display_name": "Python [conda env:.conda-daniel_jax]",
   "language": "python",
   "name": "conda-env-.conda-daniel_jax-py"
  },
  "language_info": {
   "codemirror_mode": {
    "name": "ipython",
    "version": 3
   },
   "file_extension": ".py",
   "mimetype": "text/x-python",
   "name": "python",
   "nbconvert_exporter": "python",
   "pygments_lexer": "ipython3",
   "version": "3.10.15"
  }
 },
 "nbformat": 4,
 "nbformat_minor": 5
}
