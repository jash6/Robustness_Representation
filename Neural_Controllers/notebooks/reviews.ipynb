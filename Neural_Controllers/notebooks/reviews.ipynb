{
 "cells": [
  {
   "cell_type": "code",
   "execution_count": 1,
   "id": "91f5e166-38a4-4d7c-8b3f-2964ba367711",
   "metadata": {
    "tags": []
   },
   "outputs": [],
   "source": [
    "%load_ext autoreload\n",
    "%autoreload 2"
   ]
  },
  {
   "cell_type": "code",
   "execution_count": 2,
   "id": "a7dc3d8c-09be-4f31-a4e4-5bf0e2b1695e",
   "metadata": {
    "tags": []
   },
   "outputs": [],
   "source": [
    "import sys\n",
    "from pathlib import Path\n",
    "\n",
    "notebook_path = Path().absolute()\n",
    "sys.path.append(str(notebook_path.parent))"
   ]
  },
  {
   "cell_type": "code",
   "execution_count": 3,
   "id": "e8881397-6107-479b-9fb4-95b34abb15a8",
   "metadata": {
    "tags": []
   },
   "outputs": [],
   "source": [
    "import torch\n",
    "import numpy as np"
   ]
  },
  {
   "cell_type": "code",
   "execution_count": 4,
   "id": "69099569-def0-49c3-afbc-beec83303128",
   "metadata": {
    "tags": []
   },
   "outputs": [],
   "source": [
    "import utils"
   ]
  },
  {
   "cell_type": "code",
   "execution_count": 5,
   "id": "181b8035-8309-48e7-ac43-d42f39407371",
   "metadata": {
    "tags": []
   },
   "outputs": [],
   "source": [
    "from transformers import AutoTokenizer, AutoModelForCausalLM\n",
    "from neural_controllers import NeuralController\n",
    "import matplotlib.pyplot as plt\n",
    "torch.manual_seed(0)\n",
    "torch.cuda.manual_seed(0)\n",
    "np.random.seed(0)"
   ]
  },
  {
   "cell_type": "code",
   "execution_count": null,
   "id": "1d3f9df4-f467-4f29-87fa-d3a418691199",
   "metadata": {
    "tags": []
   },
   "outputs": [],
   "source": [
    "model_type = 'llama'\n",
    "\n",
    "if model_type=='llama':\n",
    "\n",
    "    model_id = \"meta-llama/Meta-Llama-3.1-8B-Instruct\"\n",
    "\n",
    "    language_model = AutoModelForCausalLM.from_pretrained(\n",
    "        model_id, device_map=\"cuda\"\n",
    "    )\n",
    "\n",
    "    use_fast_tokenizer = \"LlamaForCausalLM\" not in language_model.config.architectures\n",
    "    tokenizer = AutoTokenizer.from_pretrained(model_id, use_fast=use_fast_tokenizer, padding_side=\"left\", legacy=False)\n",
    "    tokenizer.pad_token_id = 0 \n",
    "    model_name='llama_3_8b_it'\n",
    "    \n",
    "elif model_type=='gemma':\n",
    "\n",
    "    tokenizer = AutoTokenizer.from_pretrained(\"google/gemma-2-9b-it\")\n",
    "    language_model = AutoModelForCausalLM.from_pretrained(\n",
    "        \"google/gemma-2-9b-it\",\n",
    "        device_map=\"auto\",\n",
    "        torch_dtype=torch.bfloat16,\n",
    "    )\n",
    "    model_name='gemma_2_9b_it'"
   ]
  },
  {
   "cell_type": "code",
   "execution_count": null,
   "id": "46cc3daf-202d-4311-a16b-5819e5c8c60a",
   "metadata": {
    "tags": []
   },
   "outputs": [],
   "source": [
    "source = 'amazon'\n",
    "review_dir = '../data/reviews/'\n",
    "data, ratings = utils.reviews_dataset(review_dir, tokenizer, center=True, source=source)"
   ]
  },
  {
   "cell_type": "code",
   "execution_count": null,
   "id": "bdf3bc19-555c-4d28-ada7-55912dc09a4f",
   "metadata": {
    "collapsed": true,
    "jupyter": {
     "outputs_hidden": true
    },
    "tags": []
   },
   "outputs": [],
   "source": [
    "plt.hist(ratings)"
   ]
  },
  {
   "cell_type": "code",
   "execution_count": null,
   "id": "cd895c97-682f-4552-9cd0-08cc1725b384",
   "metadata": {
    "tags": []
   },
   "outputs": [],
   "source": [
    "review_controller = NeuralController(\n",
    "    language_model,\n",
    "    tokenizer,\n",
    "    rfm_iters=1,\n",
    "    control_method='linear',\n",
    "    batch_size=8\n",
    ")"
   ]
  },
  {
   "cell_type": "code",
   "execution_count": null,
   "id": "3c514b9c-aeb3-4319-9e8f-a6407acd610b",
   "metadata": {
    "collapsed": true,
    "jupyter": {
     "outputs_hidden": true
    },
    "tags": []
   },
   "outputs": [],
   "source": [
    "review_controller.compute_directions(data, ratings)"
   ]
  },
  {
   "cell_type": "code",
   "execution_count": null,
   "id": "213e3245-d755-41f1-bd47-01688ec81704",
   "metadata": {
    "collapsed": true,
    "jupyter": {
     "outputs_hidden": true
    },
    "tags": []
   },
   "outputs": [],
   "source": [
    "review_controller.compute_directions(data, ratings)"
   ]
  },
  {
   "cell_type": "code",
   "execution_count": null,
   "id": "ffe0c711-4d5a-4007-ae80-e5b46be622ce",
   "metadata": {
    "collapsed": true,
    "jupyter": {
     "outputs_hidden": true
    },
    "tags": []
   },
   "outputs": [],
   "source": [
    "review_controller.compute_directions(data, ratings)"
   ]
  },
  {
   "cell_type": "code",
   "execution_count": 12,
   "id": "2473f439-99c1-40c9-b0c4-bb82e849ddc5",
   "metadata": {
    "tags": []
   },
   "outputs": [],
   "source": [
    "review_controller.save(concept=f'{source}_review', model_name=model_name, path='../directions/')"
   ]
  },
  {
   "cell_type": "markdown",
   "id": "0a398587-b63a-4146-b5c5-7b21558cbadd",
   "metadata": {
    "tags": []
   },
   "source": [
    "### Plot scores"
   ]
  },
  {
   "cell_type": "markdown",
   "id": "b4f2ca98-5a33-4341-9122-c1b32b4e8bdb",
   "metadata": {
    "tags": []
   },
   "source": [
    "# Control"
   ]
  },
  {
   "cell_type": "code",
   "execution_count": null,
   "id": "355cd4fd-7488-4825-8dd2-62dab7c60cfc",
   "metadata": {
    "tags": []
   },
   "outputs": [],
   "source": [
    "review_controller = NeuralController(\n",
    "    language_model,\n",
    "    tokenizer,\n",
    "    control_method='rfm',\n",
    "    batch_size=2\n",
    ")"
   ]
  },
  {
   "cell_type": "code",
   "execution_count": null,
   "id": "b7b5417b-9b18-4054-bd88-54adfe3f7149",
   "metadata": {
    "tags": []
   },
   "outputs": [],
   "source": [
    "review_controller.load(concept=f'{source}_review', model_name=model_name, path='../directions/')"
   ]
  },
  {
   "cell_type": "code",
   "execution_count": null,
   "id": "cef584d9-44e7-4eea-8fc7-51ef3d8e6c3b",
   "metadata": {
    "tags": []
   },
   "outputs": [],
   "source": [
    "# template =  \"Give a rating (from 1 to 5) then a two-sentence review for an average {item}. Format your rating 'Rating: x/5'.\"\n",
    "template =  \"Give a rating and a short review for {item}.\"\n",
    "items = [\n",
    "    # \"Mona Lisa\",\n",
    "    # \"Crime and Punishment\",\n",
    "    # \"Harvard\"\n",
    "    \"a student's sloppy essay\"\n",
    "    # \"A chocolate chip cookie\"\n",
    "    # \"Harry Potter and the Deathly Hallows – Part 2 (2011)\" \n",
    "]\n",
    "\n",
    "raw_inputs = [template.format(item=x) for x in items]\n",
    "inputs = []\n",
    "for x in raw_inputs:\n",
    "    inputs.append(review_controller.format_prompt(x))\n",
    "    \n",
    "\n",
    "num_new_tokens = 120\n",
    "coef = 0.5\n",
    "print()\n",
    "for i in inputs:\n",
    "    print(i)\n",
    "    print(\"===== No Control =====\")\n",
    "    print(review_controller.generate(i, max_new_tokens=num_new_tokens, do_sample=False).replace(i, \"\"))\n",
    "    print()\n",
    "    \n",
    "    print(f\"===== + Review Control =====\")\n",
    "    print(review_controller.generate(i, layers_to_control=list(range(-1, -31, -1)), control_coef=coef, \n",
    "                                max_new_tokens=num_new_tokens, do_sample=False).replace(i, \"\"))\n",
    "    print()"
   ]
  },
  {
   "cell_type": "code",
   "execution_count": null,
   "id": "364f94d1-39a6-46af-839d-20364b9271a6",
   "metadata": {},
   "outputs": [],
   "source": []
  }
 ],
 "metadata": {
  "kernelspec": {
   "display_name": "Python [conda env:.conda-daniel_jax]",
   "language": "python",
   "name": "conda-env-.conda-daniel_jax-py"
  },
  "language_info": {
   "codemirror_mode": {
    "name": "ipython",
    "version": 3
   },
   "file_extension": ".py",
   "mimetype": "text/x-python",
   "name": "python",
   "nbconvert_exporter": "python",
   "pygments_lexer": "ipython3",
   "version": "3.10.15"
  }
 },
 "nbformat": 4,
 "nbformat_minor": 5
}
