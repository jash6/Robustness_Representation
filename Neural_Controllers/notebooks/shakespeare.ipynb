{
 "cells": [
  {
   "cell_type": "code",
   "execution_count": 1,
   "id": "91f5e166-38a4-4d7c-8b3f-2964ba367711",
   "metadata": {
    "tags": []
   },
   "outputs": [],
   "source": [
    "%load_ext autoreload\n",
    "%autoreload 2"
   ]
  },
  {
   "cell_type": "code",
   "execution_count": null,
   "id": "af05e947-3a07-4ed7-b657-9b92749065a2",
   "metadata": {
    "tags": []
   },
   "outputs": [],
   "source": [
    "import sys\n",
    "from pathlib import Path\n",
    "\n",
    "notebook_path = Path().absolute()\n",
    "sys.path.append(str(notebook_path.parent))"
   ]
  },
  {
   "cell_type": "code",
   "execution_count": 3,
   "id": "cf9d3f62-c301-43b0-801d-d8a5ceda91c0",
   "metadata": {
    "tags": []
   },
   "outputs": [],
   "source": [
    "import torch\n",
    "from tqdm import tqdm\n",
    "import numpy as np\n",
    "from transformers import AutoTokenizer, AutoModelForCausalLM\n",
    "from neural_controllers import NeuralController"
   ]
  },
  {
   "cell_type": "code",
   "execution_count": 4,
   "id": "fd6438f5-0de8-48f5-843a-fac5dc46cb93",
   "metadata": {
    "tags": []
   },
   "outputs": [],
   "source": [
    "from utils import shakespeare_dataset\n",
    "\n",
    "torch.manual_seed(0)\n",
    "torch.cuda.manual_seed(0)\n",
    "np.random.seed(0)"
   ]
  },
  {
   "cell_type": "code",
   "execution_count": null,
   "id": "9b77eb18-a0d1-4892-a81c-58c04bc67820",
   "metadata": {
    "tags": []
   },
   "outputs": [],
   "source": [
    "model_type = 'llama'\n",
    "\n",
    "if model_type=='llama':\n",
    "\n",
    "    model_id = \"meta-llama/Meta-Llama-3.1-8B-Instruct\"\n",
    "\n",
    "    language_model = AutoModelForCausalLM.from_pretrained(\n",
    "        model_id, device_map=\"cuda\"\n",
    "    )\n",
    "\n",
    "    use_fast_tokenizer = \"LlamaForCausalLM\" not in language_model.config.architectures\n",
    "    tokenizer = AutoTokenizer.from_pretrained(model_id, use_fast=use_fast_tokenizer, padding_side=\"left\", legacy=False)\n",
    "    tokenizer.pad_token_id = 0 if tokenizer.pad_token_id is None else tokenizer.pad_token_id\n",
    "    model_name='llama_3_8b_it'\n",
    "    assistant_tag = '<|start_header_id|>assistant<|end_header_id|>'\n",
    "    \n",
    "elif model_type=='gemma':\n",
    "\n",
    "    tokenizer = AutoTokenizer.from_pretrained(\"google/gemma-2-9b-it\")\n",
    "    language_model = AutoModelForCausalLM.from_pretrained(\n",
    "        \"google/gemma-2-9b-it\",\n",
    "        device_map=\"auto\",\n",
    "        torch_dtype=torch.bfloat16,\n",
    "    )\n",
    "    model_name='gemma_2_9b_it'\n"
   ]
  },
  {
   "cell_type": "code",
   "execution_count": null,
   "id": "980b73c7-ef4f-4739-9cf5-179ce54bdeca",
   "metadata": {
    "tags": []
   },
   "outputs": [],
   "source": [
    "controller = NeuralController(\n",
    "        language_model,\n",
    "        tokenizer\n",
    "    )"
   ]
  },
  {
   "cell_type": "code",
   "execution_count": null,
   "id": "279e2d56-b372-42a4-b116-fe8f7b4cc1f7",
   "metadata": {
    "tags": []
   },
   "outputs": [],
   "source": [
    "concept_types = ['english', 'shakespeare']\n",
    "\n",
    "data_dir = \"../data/languages\"\n",
    "\n",
    "data = shakespeare_dataset(data_dir, concept_types, controller, assistant_tag)"
   ]
  },
  {
   "cell_type": "code",
   "execution_count": null,
   "id": "1c00b998-928b-4ed8-b08b-55dd89924519",
   "metadata": {
    "collapsed": true,
    "jupyter": {
     "outputs_hidden": true
    },
    "tags": []
   },
   "outputs": [],
   "source": [
    "controllers = {}\n",
    "for concept_type in tqdm(concept_types):\n",
    "    \n",
    "    other_type = [k for k in concept_types if k != concept_type][0]\n",
    "    \n",
    "    train_data = data[concept_type]['train']\n",
    "    test_data = data[concept_type]['test']\n",
    "        \n",
    "    language_controller = NeuralController(\n",
    "        language_model,\n",
    "        tokenizer,\n",
    "        rfm_iters=8,\n",
    "        batch_size=2,\n",
    "        n_components=5,\n",
    "        control_method='logistic'\n",
    "    )\n",
    "    \n",
    "    language_controller.compute_directions(train_data['inputs'], train_data['labels'])\n",
    "    \n",
    "    controllers[concept_type] = language_controller\n",
    "    "
   ]
  },
  {
   "cell_type": "code",
   "execution_count": 9,
   "id": "e56aac6d-769e-43f0-af42-494bcde2fb54",
   "metadata": {
    "tags": []
   },
   "outputs": [],
   "source": [
    "for concept_type in concept_types:\n",
    "    controller = controllers[concept_type]\n",
    "    other_type = [k for k in concept_types if k!=concept_type][0]\n",
    "    \n",
    "    controller.save(concept=f'{concept_type}_{other_type}', model_name=model_name, path='../directions/')"
   ]
  },
  {
   "cell_type": "markdown",
   "id": "c37f8cb2-3e56-46dd-905c-0b15f0e9421c",
   "metadata": {},
   "source": [
    "# Control"
   ]
  },
  {
   "cell_type": "code",
   "execution_count": null,
   "id": "101d11e7-c62b-4bed-8159-cf44652d0451",
   "metadata": {
    "tags": []
   },
   "outputs": [],
   "source": [
    "concept_types = ['english', 'shakespeare']\n",
    "# concept_types = ['english', 'german']\n",
    "\n",
    "controllers = {}\n",
    "\n",
    "for concept_type in concept_types:\n",
    "    \n",
    "    controller = NeuralController(\n",
    "        language_model,\n",
    "        tokenizer,\n",
    "        rfm_iters=8,\n",
    "        control_method='logistic'\n",
    "    )\n",
    "    \n",
    "    other_type = [k for k in concept_types if k!=concept_type][0]\n",
    "    \n",
    "    controller.load(concept=f'{concept_type}_{other_type}', model_name=model_name, path='../directions/')\n",
    "    \n",
    "    controllers[concept_type] = controller"
   ]
  },
  {
   "cell_type": "code",
   "execution_count": null,
   "id": "9130e73f-3f60-4709-8514-fb334ec190e0",
   "metadata": {
    "tags": []
   },
   "outputs": [],
   "source": [
    "concept_type = \"english\"\n",
    "language_controller = controllers[concept_type]\n",
    "\n",
    "raw_inputs = [\n",
    "    # \"How are you today?\",\n",
    "    # \"What can I buy in a grocery store?\",\n",
    "    f\"What can I do to treat flu symptoms?\",\n",
    "]\n",
    "inputs = [language_controller.format_prompt(x) for x in raw_inputs]\n",
    "num_new_tokens = 150\n",
    "\n",
    "\n",
    "#llama \n",
    "coef=0.5\n",
    "layers = list(range(-1, -31, -1))\n",
    "\n",
    "#gemma\n",
    "# coef=9\n",
    "# layers = list(range(-1, -41, -1))\n",
    "assistant_tag = '<|start_header_id|>assistant<|end_header_id|>'\n",
    "gens=[]\n",
    "print()\n",
    "for i in inputs:\n",
    "    print(\"Prompt:\", i)\n",
    "    start_idx = len(i)\n",
    "        \n",
    "    print(\"===== No Control =====\")\n",
    "    gen1 = language_controller.generate(i, max_new_tokens=num_new_tokens, do_sample=False)[start_idx:]\n",
    "    print(gen1)\n",
    "    print()\n",
    "    \n",
    "    print(f\"===== + {concept_type} Control =====\")\n",
    "    gen2 = language_controller.generate(i, layers_to_control=layers, control_coef=coef, \n",
    "                                max_new_tokens=num_new_tokens, do_sample=False)[start_idx:].replace(assistant_tag,'')\n",
    "    print(gen2)\n",
    "    print()\n",
    "    print()"
   ]
  },
  {
   "cell_type": "code",
   "execution_count": null,
   "id": "590b1ead-87cd-4351-bb6b-a1b082f93b65",
   "metadata": {},
   "outputs": [],
   "source": []
  },
  {
   "cell_type": "code",
   "execution_count": null,
   "id": "b34980f9-a8b4-4724-81c6-531901cd3167",
   "metadata": {},
   "outputs": [],
   "source": []
  }
 ],
 "metadata": {
  "kernelspec": {
   "display_name": "daniel_jax",
   "language": "python",
   "name": "python3"
  },
  "language_info": {
   "codemirror_mode": {
    "name": "ipython",
    "version": 3
   },
   "file_extension": ".py",
   "mimetype": "text/x-python",
   "name": "python",
   "nbconvert_exporter": "python",
   "pygments_lexer": "ipython3",
   "version": "3.10.15"
  }
 },
 "nbformat": 4,
 "nbformat_minor": 5
}
