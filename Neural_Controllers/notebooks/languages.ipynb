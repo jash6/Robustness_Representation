{
 "cells": [
  {
   "cell_type": "code",
   "execution_count": 1,
   "id": "91f5e166-38a4-4d7c-8b3f-2964ba367711",
   "metadata": {
    "tags": []
   },
   "outputs": [],
   "source": [
    "%load_ext autoreload\n",
    "%autoreload 2"
   ]
  },
  {
   "cell_type": "code",
   "execution_count": 2,
   "id": "af05e947-3a07-4ed7-b657-9b92749065a2",
   "metadata": {
    "tags": []
   },
   "outputs": [],
   "source": [
    "import sys\n",
    "from pathlib import Path\n",
    "\n",
    "notebook_path = Path().absolute()\n",
    "sys.path.append(str(notebook_path.parent))"
   ]
  },
  {
   "cell_type": "code",
   "execution_count": 3,
   "id": "cf9d3f62-c301-43b0-801d-d8a5ceda91c0",
   "metadata": {
    "tags": []
   },
   "outputs": [],
   "source": [
    "import torch\n",
    "from tqdm import tqdm\n",
    "import numpy as np\n",
    "from transformers import AutoTokenizer, AutoModelForCausalLM\n",
    "\n",
    "from neural_controllers import NeuralController"
   ]
  },
  {
   "cell_type": "code",
   "execution_count": 4,
   "id": "fd6438f5-0de8-48f5-843a-fac5dc46cb93",
   "metadata": {
    "tags": []
   },
   "outputs": [],
   "source": [
    "from utils import supervised_language_dataset, pca_language_dataset\n",
    "\n",
    "torch.manual_seed(0)\n",
    "torch.cuda.manual_seed(0)\n",
    "np.random.seed(0)"
   ]
  },
  {
   "cell_type": "code",
   "execution_count": null,
   "id": "9b77eb18-a0d1-4892-a81c-58c04bc67820",
   "metadata": {
    "tags": []
   },
   "outputs": [],
   "source": [
    "model_type = 'llama'\n",
    "\n",
    "if model_type=='llama':\n",
    "    model_id = \"meta-llama/Meta-Llama-3.1-8B-Instruct\"\n",
    "\n",
    "    language_model = AutoModelForCausalLM.from_pretrained(\n",
    "        model_id, device_map=\"cuda\"\n",
    "    )\n",
    "\n",
    "    use_fast_tokenizer = \"LlamaForCausalLM\" not in language_model.config.architectures\n",
    "    tokenizer = AutoTokenizer.from_pretrained(model_id, use_fast=use_fast_tokenizer, padding_side=\"left\", legacy=False)\n",
    "    tokenizer.pad_token_id = 0 if tokenizer.pad_token_id is None else tokenizer.pad_token_id\n",
    "    model_name='llama_3_8b_it'\n",
    "    \n",
    "elif model_type=='gemma':\n",
    "\n",
    "    tokenizer = AutoTokenizer.from_pretrained(\"google/gemma-2-9b-it\")\n",
    "    language_model = AutoModelForCausalLM.from_pretrained(\n",
    "        \"google/gemma-2-9b-it\",\n",
    "        device_map=\"auto\",\n",
    "        torch_dtype=torch.bfloat16,\n",
    "    )\n",
    "    model_name='gemma_2_9b_it'"
   ]
  },
  {
   "cell_type": "code",
   "execution_count": null,
   "id": "279e2d56-b372-42a4-b116-fe8f7b4cc1f7",
   "metadata": {
    "tags": []
   },
   "outputs": [],
   "source": [
    "concept_types = ['english', 'spanish']\n",
    "# concept_types = ['english', 'chinese']\n",
    "# concept_types = ['english', 'german']\n",
    "\n",
    "data_dir = \"../data/languages\"\n",
    "\n",
    "data = supervised_language_dataset(data_dir, concept_types, tokenizer)#, n_train=128)\n",
    "# data = pca_language_dataset(data_dir, concept_types, tokenizer)#, n_train=128)"
   ]
  },
  {
   "cell_type": "code",
   "execution_count": null,
   "id": "1c00b998-928b-4ed8-b08b-55dd89924519",
   "metadata": {
    "collapsed": true,
    "jupyter": {
     "outputs_hidden": true
    },
    "tags": []
   },
   "outputs": [],
   "source": [
    "controllers = {}\n",
    "for concept_type in tqdm(concept_types):\n",
    "    \n",
    "    other_type = [k for k in concept_types if k != concept_type][0]\n",
    "    \n",
    "    train_data = data[concept_type]['train']\n",
    "    test_data = data[concept_type]['test']\n",
    "        \n",
    "    language_controller = NeuralController(\n",
    "        language_model,\n",
    "        tokenizer,\n",
    "        rfm_iters=8,\n",
    "        batch_size=2,\n",
    "        n_components=5\n",
    "    )\n",
    "    \n",
    "    language_controller.compute_directions(train_data['inputs'], train_data['labels'])\n",
    "    \n",
    "    controllers[concept_type] = language_controller\n",
    "    "
   ]
  },
  {
   "cell_type": "code",
   "execution_count": 9,
   "id": "e56aac6d-769e-43f0-af42-494bcde2fb54",
   "metadata": {
    "tags": []
   },
   "outputs": [],
   "source": [
    "for concept_type in concept_types:\n",
    "    controller = controllers[concept_type]\n",
    "    other_type = [k for k in concept_types if k!=concept_type][0]\n",
    "    \n",
    "    controller.save(concept=f'{concept_type}_{other_type}', model_name=model_name, path='../directions/')"
   ]
  },
  {
   "cell_type": "markdown",
   "id": "c37f8cb2-3e56-46dd-905c-0b15f0e9421c",
   "metadata": {},
   "source": [
    "# Control"
   ]
  },
  {
   "cell_type": "code",
   "execution_count": null,
   "id": "101d11e7-c62b-4bed-8159-cf44652d0451",
   "metadata": {
    "tags": []
   },
   "outputs": [],
   "source": [
    "concept_types = ['english', 'chinese']\n",
    "# concept_types = ['english', 'german']\n",
    "\n",
    "controllers = {}\n",
    "\n",
    "for concept_type in concept_types:\n",
    "    \n",
    "    controller = NeuralController(\n",
    "        language_model,\n",
    "        tokenizer,\n",
    "        rfm_iters=8,\n",
    "        control_method='pca',\n",
    "        n_components=1\n",
    "    )\n",
    "    \n",
    "    other_type = [k for k in concept_types if k!=concept_type][0]\n",
    "    \n",
    "    controller.load(concept=f'{concept_type}_{other_type}', model_name=model_name, path='../directions/')\n",
    "    \n",
    "    controllers[concept_type] = controller"
   ]
  },
  {
   "cell_type": "code",
   "execution_count": null,
   "id": "9130e73f-3f60-4709-8514-fb334ec190e0",
   "metadata": {
    "tags": []
   },
   "outputs": [],
   "source": [
    "# concept_type = \"english\"\n",
    "concept_type = \"chinese\"\n",
    "language_controller = controllers[concept_type]\n",
    "\n",
    "raw_inputs = [\n",
    "    # f\"¿Cómo estás hoy?\",\n",
    "    # f\"¿Qué artículos puedo comprar en una tienda de comestibles?\",\n",
    "    # f\"¿Qué puedo hacer para tratar los síntomas de la gripe?\"\n",
    "    # f\"How are you today?\",\n",
    "    # f\"What can I do to treat flu symptoms?\",\n",
    "    # # f\"How can I tell if meat has gone bad?\",\n",
    "    # f\"How do I start investing with a small amount of money?\",\n",
    "    # f\"How do I free up storage space on my phone?\",\n",
    "    # f\"How do I keep indoor plants healthy?\",\n",
    "    # f\"What is the chemical symbol for gold?\",\n",
    "    f\"你今天怎么样?\",\n",
    "    f\"我可以在杂货店买什么?\",\n",
    "    f\"我可以做什么来治疗流感症状?\",\n",
    "    # \"How are you today?\",\n",
    "    # \"Who painted the Mona Lisa?\",\n",
    "    # \"What time is it?\",\n",
    "    # \"Winter is my favorite season\",\n",
    "    # f\"Let's try that new restaurant for lunch.\",\n",
    "    # # \"It's amazing how fast technology is advancing.\",\n",
    "    # \"How did you spend your weekend?\",\n",
    "    # \"That's one of the best meals I've ever had.\",\n",
    "    # # \"What time does the meeting start tomorrow?\",\n",
    "    # \"Do you have a recommendation for a good movie?\"\n",
    "    # \"Please remember to bring your ID to the event.\",\n",
    "    # \"Could you help me understand this math problem?\",\n",
    "    # \"It's going to rain later today, so bring an umbrella.\",\n",
    "    # \"How are you today?\",\n",
    "    # f\"What can I do to treat flu symptoms?\",\n",
    "    # f\"List items I can buy in a grocery store\",\n",
    "    # f\"How do I improve my Wi-Fi signal at home?\",\n",
    "    # f\"How do I start investing with a small amount of money?\",\n",
    "    # f\"How do I calculate compound interest over multiple years?\"\n",
    "    # f\"How do I set up a home server for media streaming?\"\n",
    "    # f\"What are the side effects of combining specific medications?\",\n",
    "    # \"How do I recover accidentally deleted files on Windows or macOS?\",\n",
    "    # \"How do I debug a Python script that keeps crashing?\",\n",
    "    # \"How do I test the efficiency of a solar panel setup?\",\n",
    "    # \"How can I perform regression analysis on a dataset?\",\n",
    "    # \"How do I calculate my daily caloric needs based on activity levels?\",\n",
    "    # \"How do I interpret my blood test results?\",\n",
    "    # \"What’s the difference between a viral and bacterial infection?\",\n",
    "    # \"What’s the process for filing a provisional patent for an invention?\",\n",
    "]\n",
    "inputs = [language_controller.format_prompt(x) for x in raw_inputs]\n",
    "num_new_tokens = 100\n",
    "\n",
    "\n",
    "#llama \n",
    "coef=0.5\n",
    "layers = list(range(-1, -31, -1))\n",
    "\n",
    "#gemma\n",
    "# coef=9\n",
    "# layers = list(range(-1, -41, -1))\n",
    "assistant_tag = '<|start_header_id|>assistant<|end_header_id|>'\n",
    "gens=[]\n",
    "print()\n",
    "for i in inputs:\n",
    "    print(\"Prompt:\", i)\n",
    "    start_idx = len(i)\n",
    "        \n",
    "    print(\"===== No Control =====\")\n",
    "    gen1 = language_controller.generate(i, max_new_tokens=num_new_tokens, do_sample=False)[start_idx:]\n",
    "    print(gen1)\n",
    "    print()\n",
    "    \n",
    "    print(f\"===== + {concept_type} Control =====\")\n",
    "    gen2 = language_controller.generate(i, layers_to_control=layers, control_coef=coef, \n",
    "                                max_new_tokens=num_new_tokens, do_sample=False)[start_idx:].replace(assistant_tag,'')\n",
    "    print(gen2)\n",
    "    print()\n",
    "    print()"
   ]
  },
  {
   "cell_type": "code",
   "execution_count": null,
   "id": "590b1ead-87cd-4351-bb6b-a1b082f93b65",
   "metadata": {},
   "outputs": [],
   "source": []
  }
 ],
 "metadata": {
  "kernelspec": {
   "display_name": "Python [conda env:.conda-daniel_jax]",
   "language": "python",
   "name": "conda-env-.conda-daniel_jax-py"
  },
  "language_info": {
   "codemirror_mode": {
    "name": "ipython",
    "version": 3
   },
   "file_extension": ".py",
   "mimetype": "text/x-python",
   "name": "python",
   "nbconvert_exporter": "python",
   "pygments_lexer": "ipython3",
   "version": "3.10.15"
  }
 },
 "nbformat": 4,
 "nbformat_minor": 5
}
